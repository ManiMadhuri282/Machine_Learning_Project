{
 "cells": [
  {
   "cell_type": "markdown",
   "metadata": {},
   "source": [
    "# (Deep) CNNs for Image Colorization\n",
    "#### Using convolutional neural network for image colorization which turns a grayscale image to a colored image.5 By converting an image to grayscale, we loose color information, so converting a grayscale image back to a colored version is not an easy job. We will use the CIFAR-10 dataset. Downolad the dataset from http://www.cs.toronto.edu/~kriz/cifar-10-python.tar.gz.\n",
    "\n",
    "\n",
    "#### From the train and test dataset, extracting the class birds. (class with 6000 members)"
   ]
  },
  {
   "cell_type": "code",
   "execution_count": 1,
   "metadata": {},
   "outputs": [
    {
     "name": "stderr",
     "output_type": "stream",
     "text": [
      "Using TensorFlow backend.\n"
     ]
    }
   ],
   "source": [
    "%matplotlib inline\n",
    "import urllib # to read the data directly from url\n",
    "from urllib import request\n",
    "import re\n",
    "import io\n",
    "import numpy as np\n",
    "import pandas as pd\n",
    "import keras\n",
    "import cv2\n",
    "import numpy\n",
    "import sys\n",
    "\n",
    "\n",
    "\n",
    "from keras.layers import LSTM\n",
    "from keras.models import Sequential\n",
    "from keras.utils import np_utils\n",
    "from keras.layers import Dense\n",
    "from keras.layers import Dropout\n",
    "from keras.callbacks import ModelCheckpoint\n",
    "from keras.utils import np_utils\n",
    "from tensorflow.keras import backend\n",
    "from tensorflow.python.framework import ops\n",
    "from keras.layers import Dropout, MaxPooling2D, Conv2D, Dense\n",
    "from keras.datasets import cifar10\n",
    "from sklearn.cluster import KMeans\n",
    "import matplotlib.pyplot as plt\n",
    "#from skimage.color import rgb2grey\n",
    "\n",
    "from keras.models import Sequential\n",
    "\n"
   ]
  },
  {
   "cell_type": "code",
   "execution_count": null,
   "metadata": {},
   "outputs": [],
   "source": [
    "import pandas as pd\n",
    "import numpy as np\n",
    "import tensorflow as tf\n",
    "import pickle\n",
    "from sklearn.cluster import KMeans\n",
    "import matplotlib.pyplot as plt\n",
    "from sklearn.model_selection import train_test_split"
   ]
  },
  {
   "cell_type": "code",
   "execution_count": 188,
   "metadata": {},
   "outputs": [],
   "source": [
    "def fileReader(dataBatch):\n",
    "    import pickle\n",
    "    with open(dataBatch, 'rb') as fo:\n",
    "        encoded_list = pickle.load(fo, encoding='bytes')\n",
    "    extracted_data = encoded_list[b'data'].reshape((len(encoded_list[b'data']), 3, 32, 32)).transpose(0, 2, 3, 1)\n",
    "    labels = encoded_list[b'labels']\n",
    "    return (extracted_data, labels)\n",
    "\n",
    "def all_dataBatch(data):\n",
    "    data_ = []\n",
    "    for i in range(len(data[0])):\n",
    "        if data[1][i] == 2:\n",
    "            data_.append(data[0][i])\n",
    "    return data_"
   ]
  },
  {
   "cell_type": "code",
   "execution_count": 189,
   "metadata": {},
   "outputs": [
    {
     "data": {
      "image/png": "[encoded data removed]",
      "text/plain": [
       "<Figure size 432x288 with 1 Axes>"
      ]
     },
     "metadata": {
      "needs_background": "light"
     },
     "output_type": "display_data"
    }
   ],
   "source": [
    "data = []\n",
    "data_1 = fileReader('data_batch_1');\n",
    "data += all_dataBatch(data_1) \n",
    "data_2 = fileReader('data_batch_2');\n",
    "data += all_dataBatch(data_2) \n",
    "data_3 = fileReader('data_batch_3');\n",
    "data += all_dataBatch(data_3) \n",
    "data_4 = fileReader('data_batch_4');\n",
    "data += all_dataBatch(data_4) \n",
    "data_5 = fileReader('data_batch_5');\n",
    "data += all_dataBatch(data_5) \n",
    "test_data = fileReader('test_batch')\n",
    "data += all_dataBatch(test_data)\n",
    "\n",
    "\n",
    "np.array(data).shape\n",
    "\n",
    "\n",
    "plt.imshow(data[5])\n",
    "\n",
    "pixel_list = np.reshape(data, (6144000, 3))"
   ]
  },
  {
   "cell_type": "markdown",
   "metadata": {},
   "source": [
    "#### Those 6000 images have 6000 × 32 × 32 pixels. Choosing 10% of the pixels randomly. Each pixel is an RGB vector with three elements.\n",
    "\n",
    "#### Run k-means clustering on the P vectors using k = 4. The centers of the clusters will be the main colors. Converting the colored images to k-color images by converting each pixel’s value to the closest main color in terms of Euclidean distance. These are the outputs of the network, whose each pixel falls in one of those k classes.\n",
    "\n",
    "#### Using scikit-learn to obtain grayscale 32 × 32 × 1 images from the original 32 × 32 × 3 images. The grayscale images are inputs of your network."
   ]
  },
  {
   "cell_type": "code",
   "execution_count": 191,
   "metadata": {},
   "outputs": [
    {
     "data": {
      "text/plain": [
       "KMeans(algorithm='auto', copy_x=True, init='k-means++', max_iter=300,\n",
       "    n_clusters=2, n_init=10, n_jobs=None, precompute_distances='auto',\n",
       "    random_state=None, tol=0.0001, verbose=0)"
      ]
     },
     "execution_count": 191,
     "metadata": {},
     "output_type": "execute_result"
    }
   ],
   "source": [
    "pixel_list = np.reshape(data, (6144000, 3))\n",
    "kmeans = KMeans(n_clusters=2)\n",
    "kmeans.fit(pixel_list)\n",
    "#kmeans.cluster_centers_"
   ]
  },
  {
   "cell_type": "code",
   "execution_count": 192,
   "metadata": {},
   "outputs": [],
   "source": [
    "lab = kmeans.predict(pixel_list)\n",
    "nat = []\n",
    "Y = []\n",
    "for ppp in range(len(pixel_list)):\n",
    "    nat.append([int(op) for op in kmeans.cluster_centers_[lab[ppp]]])\n",
    "    if lab[ppp] == 0:\n",
    "        Y.append([1, 0, 0, 0])\n",
    "    elif lab[ppp] == 1:\n",
    "        Y.append([0, 1, 0, 0])\n",
    "    elif lab[ppp] == 2:\n",
    "        Y.append([0, 0, 1, 0])\n",
    "    elif lab[ppp] == 3:\n",
    "        Y.append([0, 0, 0, 1])\n",
    "\n",
    "#np.shape(nat)\n",
    "#np.shape(Y)\n",
    "nat = np.reshape(nat, (6000, 32, 32, 3))\n",
    "Y = np.reshape(Y, (6000, 32, 32, 4))\n",
    "from skimage.color import rgb2grey\n",
    "X = []\n",
    "pixel_list = np.reshape(pixel_list, (6000, 32, 32, 3))\n",
    "for i in range(len(pixel_list)):\n",
    "    X.append(rgb2grey(pixel_list[i]).tolist())\n",
    "X = np.reshape(X, (6000, 32, 32, 1))"
   ]
  },
  {
   "cell_type": "markdown",
   "metadata": {},
   "source": [
    "#### Implementing a deep convolutional neural network with two convolution layers (or more) and two (or more) MLP layers\n"
   ]
  },
  {
   "cell_type": "code",
   "execution_count": 194,
   "metadata": {},
   "outputs": [
    {
     "name": "stdout",
     "output_type": "stream",
     "text": [
      "_________________________________________________________________\n",
      "Layer (type)                 Output Shape              Param #   \n",
      "=================================================================\n",
      "conv2d_3 (Conv2D)            (None, 32, 32, 64)        1664      \n",
      "_________________________________________________________________\n",
      "max_pooling2d_3 (MaxPooling2 (None, 32, 32, 64)        0         \n",
      "_________________________________________________________________\n",
      "conv2d_4 (Conv2D)            (None, 32, 32, 64)        102464    \n",
      "_________________________________________________________________\n",
      "max_pooling2d_4 (MaxPooling2 (None, 32, 32, 64)        0         \n",
      "_________________________________________________________________\n",
      "dense_9 (Dense)              (None, 32, 32, 32)        2080      \n",
      "_________________________________________________________________\n",
      "dense_10 (Dense)             (None, 32, 32, 4)         132       \n",
      "=================================================================\n",
      "Total params: 106,340\n",
      "Trainable params: 106,340\n",
      "Non-trainable params: 0\n",
      "_________________________________________________________________\n",
      "Train on 5400 samples, validate on 600 samples\n",
      "Epoch 1/30\n",
      " - 37s - loss: 1.0577 - acc: 0.4596 - val_loss: 0.9680 - val_acc: 0.4471\n",
      "Epoch 2/30\n",
      " - 36s - loss: 0.9143 - acc: 0.5111 - val_loss: 0.8693 - val_acc: 0.5556\n",
      "Epoch 3/30\n",
      " - 38s - loss: 0.7925 - acc: 0.6267 - val_loss: 0.6483 - val_acc: 0.8664\n",
      "Epoch 4/30\n",
      " - 36s - loss: 0.5508 - acc: 0.8962 - val_loss: 0.4689 - val_acc: 0.9118\n",
      "Epoch 5/30\n",
      " - 36s - loss: 0.4242 - acc: 0.9145 - val_loss: 0.3802 - val_acc: 0.9217\n",
      "Epoch 6/30\n",
      " - 36s - loss: 0.3526 - acc: 0.9216 - val_loss: 0.3374 - val_acc: 0.9193\n",
      "Epoch 7/30\n",
      " - 36s - loss: 0.3082 - acc: 0.9246 - val_loss: 0.2857 - val_acc: 0.9284\n",
      "Epoch 8/30\n",
      " - 36s - loss: 0.2728 - acc: 0.9296 - val_loss: 0.2553 - val_acc: 0.9344\n",
      "Epoch 9/30\n",
      " - 36s - loss: 0.2470 - acc: 0.9328 - val_loss: 0.2318 - val_acc: 0.9373\n",
      "Epoch 10/30\n",
      " - 36s - loss: 0.2272 - acc: 0.9354 - val_loss: 0.2186 - val_acc: 0.9373\n",
      "Epoch 11/30\n",
      " - 36s - loss: 0.2161 - acc: 0.9350 - val_loss: 0.2258 - val_acc: 0.9286\n",
      "Epoch 12/30\n",
      " - 36s - loss: 0.2026 - acc: 0.9372 - val_loss: 0.1925 - val_acc: 0.9409\n",
      "Epoch 13/30\n",
      " - 36s - loss: 0.1977 - acc: 0.9360 - val_loss: 0.1859 - val_acc: 0.9410\n",
      "Epoch 14/30\n",
      " - 36s - loss: 0.1899 - acc: 0.9370 - val_loss: 0.1829 - val_acc: 0.9394\n",
      "Epoch 15/30\n",
      " - 37s - loss: 0.1829 - acc: 0.9381 - val_loss: 0.1750 - val_acc: 0.9409\n",
      "Epoch 16/30\n",
      " - 36s - loss: 0.1793 - acc: 0.9377 - val_loss: 0.1705 - val_acc: 0.9415\n",
      "Epoch 17/30\n",
      " - 36s - loss: 0.1724 - acc: 0.9391 - val_loss: 0.1658 - val_acc: 0.9422\n",
      "Epoch 18/30\n",
      " - 36s - loss: 0.1701 - acc: 0.9386 - val_loss: 0.1804 - val_acc: 0.9343\n",
      "Epoch 19/30\n",
      " - 36s - loss: 0.1662 - acc: 0.9394 - val_loss: 0.1580 - val_acc: 0.9434\n",
      "Epoch 20/30\n",
      " - 36s - loss: 0.1614 - acc: 0.9405 - val_loss: 0.1655 - val_acc: 0.9381\n",
      "Epoch 21/30\n",
      " - 36s - loss: 0.1608 - acc: 0.9397 - val_loss: 0.1650 - val_acc: 0.9373\n",
      "Epoch 22/30\n",
      " - 36s - loss: 0.1576 - acc: 0.9405 - val_loss: 0.1685 - val_acc: 0.9349\n",
      "Epoch 23/30\n",
      " - 36s - loss: 0.1575 - acc: 0.9392 - val_loss: 0.1530 - val_acc: 0.9425\n",
      "Epoch 24/30\n",
      " - 36s - loss: 0.1544 - acc: 0.9407 - val_loss: 0.1519 - val_acc: 0.9423\n",
      "Epoch 25/30\n",
      " - 36s - loss: 0.1514 - acc: 0.9414 - val_loss: 0.1464 - val_acc: 0.9443\n",
      "Epoch 26/30\n",
      " - 36s - loss: 0.1558 - acc: 0.9390 - val_loss: 0.1469 - val_acc: 0.9432\n",
      "Epoch 27/30\n",
      " - 36s - loss: 0.1503 - acc: 0.9409 - val_loss: 0.1439 - val_acc: 0.9447\n",
      "Epoch 28/30\n",
      " - 36s - loss: 0.1511 - acc: 0.9401 - val_loss: 0.1739 - val_acc: 0.9328\n",
      "Epoch 29/30\n",
      " - 37s - loss: 0.1478 - acc: 0.9414 - val_loss: 0.1451 - val_acc: 0.9431\n",
      "Epoch 30/30\n",
      " - 36s - loss: 0.1460 - acc: 0.9417 - val_loss: 0.1432 - val_acc: 0.9442\n"
     ]
    }
   ],
   "source": [
    "from keras.utils import to_categorical\n",
    "from keras.models import Sequential\n",
    "from keras.layers import Dense, Conv2D, Flatten, MaxPool2D\n",
    "\n",
    "model = Sequential()\n",
    "import warnings\n",
    "\n",
    "def warn_filter():\n",
    "    warnings.warn(\"deprecated\", DeprecationWarning)\n",
    "\n",
    "with warnings.catch_warnings():\n",
    "    warnings.simplefilter(\"ignore\")\n",
    "    warn_filter()\n",
    "\n",
    "model.add(Conv2D(64, kernel_size = (5,5), strides=(1, 1), padding='same', input_shape = (32,32,1)))\n",
    "model.add(MaxPool2D(pool_size=(2, 2), strides=(1, 1), padding='same'))\n",
    "model.add(Conv2D(64, kernel_size = (5,5), strides=(1, 1), padding='same'))\n",
    "model.add(MaxPool2D(pool_size=(2, 2), strides=(1, 1), padding='same'))\n",
    "model.add(Dense(32, activation='softmax'))\n",
    "model.add(Dense(4, activation='softmax'))\n",
    "model.summary()\n",
    "\n",
    "model.compile(optimizer='adam', loss='categorical_crossentropy', metrics=['accuracy'])\n",
    "\n",
    "X_train, X_test, y_train, y_test = train_test_split(X, Y, test_size=0.1, random_state=10)\n",
    "\n",
    "#y_train.shape\n",
    "\n",
    "import warnings\n",
    "def warn_filter():\n",
    "    warnings.warn(\"deprecated\", DeprecationWarning)\n",
    "\n",
    "with warnings.catch_warnings():\n",
    "    warnings.simplefilter(\"ignore\")\n",
    "    warn_filter()\n",
    "network = model.fit(X_train, y_train, validation_data=(X_test, y_test), epochs=30, verbose=2)\n",
    "\n"
   ]
  },
  {
   "cell_type": "code",
   "execution_count": 195,
   "metadata": {},
   "outputs": [
    {
     "data": {
      "image/png": "[encoded data removed]",
      "text/plain": [
       "<Figure size 720x2160 with 20 Axes>"
      ]
     },
     "metadata": {
      "needs_background": "light"
     },
     "output_type": "display_data"
    },
    {
     "data": {
      "text/plain": [
       "<matplotlib.legend.Legend at 0x2ad2434d278>"
      ]
     },
     "execution_count": 195,
     "metadata": {},
     "output_type": "execute_result"
    },
    {
     "data": {
      "image/png": "[encoded data removed]",
      "text/plain": [
       "<Figure size 432x288 with 1 Axes>"
      ]
     },
     "metadata": {
      "needs_background": "light"
     },
     "output_type": "display_data"
    }
   ],
   "source": [
    "\n",
    "\n",
    "pred = model.predict(X_test)\n",
    "pred = pred.reshape(614400, 4)\n",
    "output_images = []\n",
    "for p in range(len(pred)):\n",
    "    output_images.append([int(op) for op in kmeans.cluster_centers_[np.argmax(pred[p])]])\n",
    "y_test_reshaped = y_test.reshape(614400, 4)\n",
    "y_test_k_color = []\n",
    "for p in range(len(y_test_reshaped)):\n",
    "    y_test_k_color.append([int(op) for op in kmeans.cluster_centers_[np.argmax(y_test_reshaped[p])]])\n",
    "output_images = np.reshape(output_images, (600, 32, 32, 3))\n",
    "y_test_k_color = np.reshape(y_test_k_color, (600, 32, 32, 3))\n",
    "\n",
    "\n",
    "\n",
    "\n",
    "plt.figure(figsize=(10, 30))\n",
    "subplotcount = 1\n",
    "for i in range(0,10):\n",
    "    plt.subplot(10, 2, subplotcount)\n",
    "    subplotcount+=1\n",
    "    plt.imshow(y_test_k_color[i])\n",
    "    plt.subplot(10, 2, subplotcount)\n",
    "    subplotcount+=1\n",
    "    plt.imshow(output_images[i])\n",
    "    plt.axis('off')\n",
    "plt.show()\n",
    "\n",
    "\n",
    "\n",
    "no_of_epochs = [int(i) for i in range(1, 31)]\n",
    "plt.plot(no_of_epochs, network.history['loss'], marker = \"x\", color=\"r\", label = \"Testing Error\")\n",
    "plt.plot(no_of_epochs, network.history['val_loss'], marker = \"x\", color = \"g\", label = \"Training Error\")\n",
    "plt.legend()\n",
    "\n",
    "\n"
   ]
  },
  {
   "cell_type": "code",
   "execution_count": null,
   "metadata": {},
   "outputs": [],
   "source": []
  }
 ],
 "metadata": {
  "kernelspec": {
   "display_name": "Python 3",
   "language": "python",
   "name": "python3"
  },
  "language_info": {
   "codemirror_mode": {
    "name": "ipython",
    "version": 3
   },
   "file_extension": ".py",
   "mimetype": "text/x-python",
   "name": "python",
   "nbconvert_exporter": "python",
   "pygments_lexer": "ipython3",
   "version": "3.6.0"
  }
 },
 "nbformat": 4,
 "nbformat_minor": 2
}
