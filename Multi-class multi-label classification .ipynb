{
 "cells": [
  {
   "cell_type": "markdown",
   "metadata": {},
   "source": [
    "# Multi-class Multi-label classification| Support Vector Machine, K-Means "
   ]
  },
  {
   "cell_type": "markdown",
   "metadata": {},
   "source": [
    "### Scikit Learn, Python"
   ]
  },
  {
   "cell_type": "markdown",
   "metadata": {},
   "source": [
    "Import needed libraries"
   ]
  },
  {
   "cell_type": "code",
   "execution_count": 1,
   "metadata": {},
   "outputs": [],
   "source": [
    "import os\n",
    "import csv\n",
    "import pandas as pd\n",
    "import numpy as np\n",
    "import matplotlib.pyplot as plt\n",
    "import seaborn as sns\n",
    "import warnings\n",
    "import random\n",
    "import statistics\n",
    "\n",
    "from sklearn.datasets import make_multilabel_classification\n",
    "from sklearn.multiclass import OneVsRestClassifier\n",
    "from sklearn.svm import SVC\n",
    "from sklearn.decomposition import PCA\n",
    "from sklearn.cross_decomposition import CCA\n",
    "from sklearn import svm\n",
    "from sklearn.model_selection import train_test_split\n",
    "from sklearn.model_selection import GridSearchCV\n",
    "from matplotlib.colors import ListedColormap\n",
    "from sklearn.metrics import confusion_matrix\n",
    "from sklearn import metrics\n",
    "from sklearn.cluster import KMeans\n",
    "from sklearn.metrics import hamming_loss\n",
    "from sklearn.model_selection import cross_val_score\n",
    "from sklearn.preprocessing import StandardScaler\n",
    "from imblearn.over_sampling import SMOTE, ADASYN\n",
    "warnings.filterwarnings(\"ignore\")\n",
    "from sklearn.metrics import classification_report\n",
    "from scipy.cluster.hierarchy import dendrogram, linkage\n",
    "%matplotlib inline\n",
    "from sklearn.metrics import accuracy_score"
   ]
  },
  {
   "cell_type": "markdown",
   "metadata": {},
   "source": [
    "#### Each instance has three labels: Families, Genus, and Species. Each of the labels has multiple classes. We wish to solve a multi-class and multi-label problem. One of the most important approaches to multi-class classification is to train a classifier for each label. We first try this approach:"
   ]
  },
  {
   "cell_type": "code",
   "execution_count": 2,
   "metadata": {
    "scrolled": true
   },
   "outputs": [
    {
     "name": "stdout",
     "output_type": "stream",
     "text": [
      "Number of rows in data = 7195\n",
      "Number of columns in data = 26\n",
      "\n",
      "\n",
      "**Sample data:**\n"
     ]
    },
    {
     "data": {
      "text/html": [
       "<div>\n",
       "<style scoped>\n",
       "    .dataframe tbody tr th:only-of-type {\n",
       "        vertical-align: middle;\n",
       "    }\n",
       "\n",
       "    .dataframe tbody tr th {\n",
       "        vertical-align: top;\n",
       "    }\n",
       "\n",
       "    .dataframe thead th {\n",
       "        text-align: right;\n",
       "    }\n",
       "</style>\n",
       "<table border=\"1\" class=\"dataframe\">\n",
       "  <thead>\n",
       "    <tr style=\"text-align: right;\">\n",
       "      <th></th>\n",
       "      <th>MFCCs_ 1</th>\n",
       "      <th>MFCCs_ 2</th>\n",
       "      <th>MFCCs_ 3</th>\n",
       "      <th>MFCCs_ 4</th>\n",
       "      <th>MFCCs_ 5</th>\n",
       "      <th>MFCCs_ 6</th>\n",
       "      <th>MFCCs_ 7</th>\n",
       "      <th>MFCCs_ 8</th>\n",
       "      <th>MFCCs_ 9</th>\n",
       "      <th>MFCCs_10</th>\n",
       "      <th>...</th>\n",
       "      <th>MFCCs_17</th>\n",
       "      <th>MFCCs_18</th>\n",
       "      <th>MFCCs_19</th>\n",
       "      <th>MFCCs_20</th>\n",
       "      <th>MFCCs_21</th>\n",
       "      <th>MFCCs_22</th>\n",
       "      <th>Family</th>\n",
       "      <th>Genus</th>\n",
       "      <th>Species</th>\n",
       "      <th>RecordID</th>\n",
       "    </tr>\n",
       "  </thead>\n",
       "  <tbody>\n",
       "    <tr>\n",
       "      <th>0</th>\n",
       "      <td>1.0</td>\n",
       "      <td>0.152936</td>\n",
       "      <td>-0.105586</td>\n",
       "      <td>0.200722</td>\n",
       "      <td>0.317201</td>\n",
       "      <td>0.260764</td>\n",
       "      <td>0.100945</td>\n",
       "      <td>-0.150063</td>\n",
       "      <td>-0.171128</td>\n",
       "      <td>0.124676</td>\n",
       "      <td>...</td>\n",
       "      <td>-0.108351</td>\n",
       "      <td>-0.077623</td>\n",
       "      <td>-0.009568</td>\n",
       "      <td>0.057684</td>\n",
       "      <td>0.118680</td>\n",
       "      <td>0.014038</td>\n",
       "      <td>Leptodactylidae</td>\n",
       "      <td>Adenomera</td>\n",
       "      <td>AdenomeraAndre</td>\n",
       "      <td>1</td>\n",
       "    </tr>\n",
       "    <tr>\n",
       "      <th>1</th>\n",
       "      <td>1.0</td>\n",
       "      <td>0.171534</td>\n",
       "      <td>-0.098975</td>\n",
       "      <td>0.268425</td>\n",
       "      <td>0.338672</td>\n",
       "      <td>0.268353</td>\n",
       "      <td>0.060835</td>\n",
       "      <td>-0.222475</td>\n",
       "      <td>-0.207693</td>\n",
       "      <td>0.170883</td>\n",
       "      <td>...</td>\n",
       "      <td>-0.090974</td>\n",
       "      <td>-0.056510</td>\n",
       "      <td>-0.035303</td>\n",
       "      <td>0.020140</td>\n",
       "      <td>0.082263</td>\n",
       "      <td>0.029056</td>\n",
       "      <td>Leptodactylidae</td>\n",
       "      <td>Adenomera</td>\n",
       "      <td>AdenomeraAndre</td>\n",
       "      <td>1</td>\n",
       "    </tr>\n",
       "    <tr>\n",
       "      <th>2</th>\n",
       "      <td>1.0</td>\n",
       "      <td>0.152317</td>\n",
       "      <td>-0.082973</td>\n",
       "      <td>0.287128</td>\n",
       "      <td>0.276014</td>\n",
       "      <td>0.189867</td>\n",
       "      <td>0.008714</td>\n",
       "      <td>-0.242234</td>\n",
       "      <td>-0.219153</td>\n",
       "      <td>0.232538</td>\n",
       "      <td>...</td>\n",
       "      <td>-0.050691</td>\n",
       "      <td>-0.023590</td>\n",
       "      <td>-0.066722</td>\n",
       "      <td>-0.025083</td>\n",
       "      <td>0.099108</td>\n",
       "      <td>0.077162</td>\n",
       "      <td>Leptodactylidae</td>\n",
       "      <td>Adenomera</td>\n",
       "      <td>AdenomeraAndre</td>\n",
       "      <td>1</td>\n",
       "    </tr>\n",
       "    <tr>\n",
       "      <th>3</th>\n",
       "      <td>1.0</td>\n",
       "      <td>0.224392</td>\n",
       "      <td>0.118985</td>\n",
       "      <td>0.329432</td>\n",
       "      <td>0.372088</td>\n",
       "      <td>0.361005</td>\n",
       "      <td>0.015501</td>\n",
       "      <td>-0.194347</td>\n",
       "      <td>-0.098181</td>\n",
       "      <td>0.270375</td>\n",
       "      <td>...</td>\n",
       "      <td>-0.136009</td>\n",
       "      <td>-0.177037</td>\n",
       "      <td>-0.130498</td>\n",
       "      <td>-0.054766</td>\n",
       "      <td>-0.018691</td>\n",
       "      <td>0.023954</td>\n",
       "      <td>Leptodactylidae</td>\n",
       "      <td>Adenomera</td>\n",
       "      <td>AdenomeraAndre</td>\n",
       "      <td>1</td>\n",
       "    </tr>\n",
       "    <tr>\n",
       "      <th>4</th>\n",
       "      <td>1.0</td>\n",
       "      <td>0.087817</td>\n",
       "      <td>-0.068345</td>\n",
       "      <td>0.306967</td>\n",
       "      <td>0.330923</td>\n",
       "      <td>0.249144</td>\n",
       "      <td>0.006884</td>\n",
       "      <td>-0.265423</td>\n",
       "      <td>-0.172700</td>\n",
       "      <td>0.266434</td>\n",
       "      <td>...</td>\n",
       "      <td>-0.048885</td>\n",
       "      <td>-0.053074</td>\n",
       "      <td>-0.088550</td>\n",
       "      <td>-0.031346</td>\n",
       "      <td>0.108610</td>\n",
       "      <td>0.079244</td>\n",
       "      <td>Leptodactylidae</td>\n",
       "      <td>Adenomera</td>\n",
       "      <td>AdenomeraAndre</td>\n",
       "      <td>1</td>\n",
       "    </tr>\n",
       "  </tbody>\n",
       "</table>\n",
       "<p>5 rows × 26 columns</p>\n",
       "</div>"
      ],
      "text/plain": [
       "   MFCCs_ 1  MFCCs_ 2  MFCCs_ 3  MFCCs_ 4  MFCCs_ 5  MFCCs_ 6  MFCCs_ 7  \\\n",
       "0       1.0  0.152936 -0.105586  0.200722  0.317201  0.260764  0.100945   \n",
       "1       1.0  0.171534 -0.098975  0.268425  0.338672  0.268353  0.060835   \n",
       "2       1.0  0.152317 -0.082973  0.287128  0.276014  0.189867  0.008714   \n",
       "3       1.0  0.224392  0.118985  0.329432  0.372088  0.361005  0.015501   \n",
       "4       1.0  0.087817 -0.068345  0.306967  0.330923  0.249144  0.006884   \n",
       "\n",
       "   MFCCs_ 8  MFCCs_ 9  MFCCs_10    ...     MFCCs_17  MFCCs_18  MFCCs_19  \\\n",
       "0 -0.150063 -0.171128  0.124676    ...    -0.108351 -0.077623 -0.009568   \n",
       "1 -0.222475 -0.207693  0.170883    ...    -0.090974 -0.056510 -0.035303   \n",
       "2 -0.242234 -0.219153  0.232538    ...    -0.050691 -0.023590 -0.066722   \n",
       "3 -0.194347 -0.098181  0.270375    ...    -0.136009 -0.177037 -0.130498   \n",
       "4 -0.265423 -0.172700  0.266434    ...    -0.048885 -0.053074 -0.088550   \n",
       "\n",
       "   MFCCs_20  MFCCs_21  MFCCs_22           Family      Genus         Species  \\\n",
       "0  0.057684  0.118680  0.014038  Leptodactylidae  Adenomera  AdenomeraAndre   \n",
       "1  0.020140  0.082263  0.029056  Leptodactylidae  Adenomera  AdenomeraAndre   \n",
       "2 -0.025083  0.099108  0.077162  Leptodactylidae  Adenomera  AdenomeraAndre   \n",
       "3 -0.054766 -0.018691  0.023954  Leptodactylidae  Adenomera  AdenomeraAndre   \n",
       "4 -0.031346  0.108610  0.079244  Leptodactylidae  Adenomera  AdenomeraAndre   \n",
       "\n",
       "   RecordID  \n",
       "0         1  \n",
       "1         1  \n",
       "2         1  \n",
       "3         1  \n",
       "4         1  \n",
       "\n",
       "[5 rows x 26 columns]"
      ]
     },
     "execution_count": 2,
     "metadata": {},
     "output_type": "execute_result"
    }
   ],
   "source": [
    "#ref https://towardsdatascience.com/journey-to-the-center-of-multi-label-classification-384c40229bff\n",
    "df = pd.read_csv('Frogs_MFCCs.csv')\n",
    "print(\"Number of rows in data =\",df.shape[0])\n",
    "print(\"Number of columns in data =\",df.shape[1])\n",
    "print(\"\\n\")\n",
    "print(\"**Sample data:**\")\n",
    "df.head()\n"
   ]
  },
  {
   "cell_type": "code",
   "execution_count": 3,
   "metadata": {},
   "outputs": [
    {
     "data": {
      "text/plain": [
       "Index(['MFCCs_ 1', 'MFCCs_ 2', 'MFCCs_ 3', 'MFCCs_ 4', 'MFCCs_ 5', 'MFCCs_ 6',\n",
       "       'MFCCs_ 7', 'MFCCs_ 8', 'MFCCs_ 9', 'MFCCs_10', 'MFCCs_11', 'MFCCs_12',\n",
       "       'MFCCs_13', 'MFCCs_14', 'MFCCs_15', 'MFCCs_16', 'MFCCs_17', 'MFCCs_18',\n",
       "       'MFCCs_19', 'MFCCs_20', 'MFCCs_21', 'MFCCs_22', 'Family', 'Genus',\n",
       "       'Species', 'RecordID'],\n",
       "      dtype='object')"
      ]
     },
     "execution_count": 3,
     "metadata": {},
     "output_type": "execute_result"
    }
   ],
   "source": [
    "df.columns"
   ]
  },
  {
   "cell_type": "markdown",
   "metadata": {},
   "source": [
    "#### Exact match and hamming score/ loss methods for evaluating multilabel classification and use them in evaluating the classifiers in this problem."
   ]
  },
  {
   "cell_type": "markdown",
   "metadata": {},
   "source": [
    "Exact Match : Exact Match is the Google keyword match type that allows you to show your ad when a searcher types the exact word or phrase you are bidding on. An Exact Match keyword in Google AdWords will only enter an auction in which the search query perfectly matches or is a close variant of your keyword.\n",
    "#ref https://www.wordstream.com/exact-match\n",
    "\n",
    "\n",
    "Hamming Loss : the fraction of the wrong labels to the total number of labels.Optimal value is 0.\n",
    "\n",
    "\n",
    "Hamming Score : accuracy in the multi-label setting, defined as the number of correct labels divided by the union of prediction and true labels.\n",
    "#ref:https://pdfs.semanticscholar.org/a928/fb1f6279a5c05e9a98bea20fe712372118c6.pdf\n",
    "\n",
    "\n",
    "Hamming distance : it is a categorical distance. For categorical variables we can measure whether the variables are same or not.\n",
    "given by :noOfMatchAttributes / noOfAttributes\n",
    "#https://dzone.com/articles/machine-learning-measuring"
   ]
  },
  {
   "cell_type": "code",
   "execution_count": 75,
   "metadata": {},
   "outputs": [],
   "source": [
    "X_train, X_test, y_train, y_test = train_test_split(df.iloc[:,:22],df.iloc[:,22:], test_size=0.3)"
   ]
  },
  {
   "cell_type": "code",
   "execution_count": 76,
   "metadata": {},
   "outputs": [],
   "source": [
    "y_train_family = pd.DataFrame(y_train.iloc[:,0])\n",
    "y_test_family = pd.DataFrame(y_test.iloc[:,0])\n",
    "y_train_genus = pd.DataFrame(y_train.iloc[:,1])\n",
    "y_test_genus = pd.DataFrame(y_test.iloc[:,1])\n",
    "y_train_species = pd.DataFrame(y_train.iloc[:,2])\n",
    "y_test_species = pd.DataFrame(y_test.iloc[:,2])"
   ]
  },
  {
   "cell_type": "markdown",
   "metadata": {},
   "source": [
    "##### Training data using SVM."
   ]
  },
  {
   "cell_type": "markdown",
   "metadata": {},
   "source": [
    "#https://www.quora.com/What-are-C-and-gamma-with-regards-to-a-support-vector-machine -> understanding of values of hyperparameters and their influence on margin of the hyperplane"
   ]
  },
  {
   "cell_type": "code",
   "execution_count": 77,
   "metadata": {
    "scrolled": true
   },
   "outputs": [
    {
     "name": "stdout",
     "output_type": "stream",
     "text": [
      "SVM for Family Label using Gaussian Kernels and one vs all classifier:\n",
      "\n",
      "Confidence Scores for train data:1.0\n",
      "Confidence Score for test data :1.0\n",
      "Best scores :0.9914614773629865\n",
      "Best C and Gamma Values :{'C': 100, 'gamma': 1.9000000000000001}\n",
      "Hamming Loss :0.0037054191755442334\n",
      "Hamming Distance :1 \n"
     ]
    }
   ],
   "source": [
    "C_range = [10**x for x in range(-3,6,1)]\n",
    "gamma_range = [x for x in np.arange(0.1,2,0.1)]\n",
    "param_grid = dict(gamma=gamma_range, C=C_range)\n",
    "svm_family = SVC(kernel=\"rbf\" )\n",
    "clf_family = GridSearchCV(svm_family,param_grid, cv=10)\n",
    "clf_family.fit(X_train, y_train_family)\n",
    "y_pred_family_svc =clf_family.predict(X_test)\n",
    "y_pred_family_svc =clf_family.predict(X_test)\n",
    "print(\"SVM for Family Label using Gaussian Kernels and one vs all classifier:\\n\")\n",
    "print(\"Confidence Scores for train data:{}\".format(clf_family.score(X_train, y_train_family)))\n",
    "print(\"Confidence Score for test data :{}\".format(clf_family.score(X_test, y_pred_family_svc)))\n",
    "print(\"Best scores :{}\".format(clf_family.best_score_ ))\n",
    "print(\"Best C and Gamma Values :{}\".format(clf_family.best_params_ ))\n",
    "print( \"Hamming Loss :{}\".format(hamming_loss(y_test_family, y_pred_family_svc)))\n",
    "def hamming_distance(s1, s2):\n",
    "    assert len(s1) == len(s2)\n",
    "    return sum(ch1 != ch2 for ch1, ch2 in zip(s1, s2))\n",
    " \n",
    "if __name__==\"__main__\":\n",
    "    print (\"Hamming Distance :{} \".format(hamming_distance(y_test_family, y_pred_family_svc))) \n"
   ]
  },
  {
   "cell_type": "code",
   "execution_count": 78,
   "metadata": {},
   "outputs": [
    {
     "name": "stdout",
     "output_type": "stream",
     "text": [
      "Exact match :0.9962945808244558\n"
     ]
    }
   ],
   "source": [
    "print(\"Exact match :{}\".format(accuracy_score(y_test_family, y_pred_family_svc)))"
   ]
  },
  {
   "cell_type": "code",
   "execution_count": 79,
   "metadata": {
    "scrolled": true
   },
   "outputs": [
    {
     "name": "stdout",
     "output_type": "stream",
     "text": [
      "SVM for genus label using Gaussian Kernels and one vs all classifier:\n",
      "\n",
      "Confidence Scores for train data:1.0\n",
      "Confidence Score for test data :1.0\n",
      "Best scores :0.9910643367752184\n",
      "Best C and Gamma Values :{'C': 100, 'gamma': 1.2000000000000002}\n",
      "Hamming Loss :0.008800370541917554\n",
      "Hamming Distance :1 \n"
     ]
    }
   ],
   "source": [
    "C_range = [10**x for x in range(-3,6,1)]\n",
    "gamma_range = [x for x in np.arange(0.1,2,0.1)]\n",
    "param_grid = dict(gamma=gamma_range, C=C_range)\n",
    "svm_genus = SVC(kernel=\"rbf\" )\n",
    "clf_genus = GridSearchCV(svm_genus,param_grid, cv=10)\n",
    "clf_genus.fit(X_train, y_train_genus)\n",
    "y_pred_genus_svc =clf_genus.predict(X_test)\n",
    "y_pred_genus_svc =clf_genus.predict(X_test)\n",
    "print(\"SVM for genus label using Gaussian Kernels and one vs all classifier:\\n\")\n",
    "print(\"Confidence Scores for train data:{}\".format(clf_genus.score(X_train, y_train_genus)))\n",
    "print(\"Confidence Score for test data :{}\".format(clf_genus.score(X_test, y_pred_genus_svc)))\n",
    "#print(\"cross validation result :{}\".format(clf_genus.cv_results_))\n",
    "print(\"Best scores :{}\".format(clf_genus.best_score_ ))\n",
    "print(\"Best C and Gamma Values :{}\".format(clf_genus.best_params_ ))\n",
    "print( \"Hamming Loss :{}\".format(hamming_loss(y_test_genus, y_pred_genus_svc)))\n",
    "def hamming_distance(s1, s2):\n",
    "    assert len(s1) == len(s2)\n",
    "    return sum(ch1 != ch2 for ch1, ch2 in zip(s1, s2))\n",
    " \n",
    "if __name__==\"__main__\":\n",
    "    print (\"Hamming Distance :{} \".format(hamming_distance(y_test_genus, y_pred_genus_svc))) "
   ]
  },
  {
   "cell_type": "code",
   "execution_count": 14,
   "metadata": {},
   "outputs": [
    {
     "name": "stdout",
     "output_type": "stream",
     "text": [
      "Exact match :0.9888837424733673\n"
     ]
    }
   ],
   "source": [
    "print(\"Exact match :{}\".format(accuracy_score(y_test_genus, y_pred_genus_svc)))"
   ]
  },
  {
   "cell_type": "code",
   "execution_count": 16,
   "metadata": {
    "scrolled": true
   },
   "outputs": [
    {
     "name": "stdout",
     "output_type": "stream",
     "text": [
      "SVM for species label using Gaussian Kernels and one vs all classifier:\n",
      "\n",
      "Confidence Scores for train data:0.9193804606830818\n",
      "Confidence Score for test data :1.0\n",
      "Best scores :0.8880063542494043\n",
      "Best C and Gamma Values :{'C': 0.1, 'gamma': 0.4}\n",
      "Hamming Loss :0.07410838351088467\n",
      "Exact match :0.9258916164891153\n",
      "Hamming Distance :1 \n"
     ]
    }
   ],
   "source": [
    "C_range = [10**x for x in range(-3,6,1)]\n",
    "gamma_range = [x for x in np.arange(0.1,2,0.1)]\n",
    "param_grid = dict(gamma=gamma_range, C=C_range)\n",
    "svm_species = SVC(kernel=\"rbf\" )\n",
    "clf_species = GridSearchCV(svm_species,param_grid, cv=10)\n",
    "clf_species.fit(X_train, y_train_species)\n",
    "y_pred_species_svc =clf_species.predict(X_test)\n",
    "y_pred_species_svc =clf_species.predict(X_test)\n",
    "print(\"SVM for species label using Gaussian Kernels and one vs all classifier:\\n\")\n",
    "print(\"Confidence Scores for train data:{}\".format(clf_species.score(X_train, y_train_species)))\n",
    "print(\"Confidence Score for test data :{}\".format(clf_species.score(X_test, y_pred_species_svc)))\n",
    "#print(\"cross validation result :{}\".format(clf_species.cv_results_))\n",
    "print(\"Best scores :{}\".format(clf_species.best_score_ ))\n",
    "print(\"Best C and Gamma Values :{}\".format(clf_species.best_params_ ))\n",
    "print( \"Hamming Loss :{}\".format(hamming_loss(y_test_species, y_pred_species_svc)))\n",
    "print(\"Exact match :{}\".format(accuracy_score(y_test_species, y_pred_species_svc)))\n",
    "def hamming_distance(s1, s2):\n",
    "    assert len(s1) == len(s2)\n",
    "    return sum(ch1 != ch2 for ch1, ch2 in zip(s1, s2))\n",
    " \n",
    "if __name__==\"__main__\":\n",
    "    print (\"Hamming Distance :{} \".format(hamming_distance(y_test_species, y_pred_species_svc))) \n"
   ]
  },
  {
   "cell_type": "markdown",
   "metadata": {},
   "source": [
    "##### Repeating process using L1-penalized SVMs and  determined weights of the SVM penalty using 10 fold cross validation."
   ]
  },
  {
   "cell_type": "code",
   "execution_count": 23,
   "metadata": {
    "scrolled": true
   },
   "outputs": [
    {
     "name": "stdout",
     "output_type": "stream",
     "text": [
      "SVM with L1 penality for genus label :\n",
      "\n",
      "Confidence Scores for train data:0.9471803018268466\n",
      "Confidence Score for test data :0.7156090782769801\n",
      "Best C and Gamma values :0.9457903097696585\n",
      "Best parameters :{'C': 10.0}\n",
      "Hamming Loss :0.07410838351088467\n",
      "Exact match :0.9258916164891153\n"
     ]
    }
   ],
   "source": [
    "scaler = StandardScaler()\n",
    "X_train_std = scaler.fit(X_train).transform(X_train)\n",
    "X_test_std = scaler.fit(X_test).transform(X_test)\n",
    "C_range_l1 = np.logspace(-3,6,10)\n",
    "param_grid = dict( C=C_range_l1)\n",
    "svm_l1_genus = svm.LinearSVC(loss='squared_hinge', max_iter=1000, multi_class='ovr', penalty='l1',dual=False)\n",
    "clf_l1_genus = GridSearchCV(svm_l1_genus,param_grid, cv=10)\n",
    "clf_l1_genus.fit(X_train, y_train_genus)\n",
    "y_pred_l1_genus_svc =clf_l1_genus.predict(X_test_std)\n",
    "print(\"SVM with L1 penality for genus label :\\n\")\n",
    "print(\"Confidence Scores for train data:{}\".format(clf_l1_genus.score(X_train, y_train_genus)))\n",
    "print(\"Confidence Score for test data :{}\".format(clf_l1_genus.score(X_test, y_pred_l1_genus_svc)))\n",
    "#print(\"cross validation result :{}\".format(clf_l1_genus.cv_results_))\n",
    "print(\"Best C and Gamma values :{}\".format(clf_l1_genus.best_score_ ))\n",
    "print(\"Best parameters :{}\".format(clf_l1_genus.best_params_ ))\n",
    "print( \"Hamming Loss :{}\".format(hamming_loss(y_test_genus, y_pred_l1_genus_svc)))\n",
    "print(\"Exact match :{}\".format(accuracy_score(y_test_genus, y_pred_l1_genus_svc)))"
   ]
  },
  {
   "cell_type": "code",
   "execution_count": 30,
   "metadata": {},
   "outputs": [
    {
     "name": "stdout",
     "output_type": "stream",
     "text": [
      "Hamming Distance :1 \n"
     ]
    }
   ],
   "source": [
    "def hamming_distance(s1, s2):\n",
    "    assert len(s1) == len(s2)\n",
    "    return sum(ch1 != ch2 for ch1, ch2 in zip(s1, s2))\n",
    " \n",
    "if __name__==\"__main__\":\n",
    "    print (\"Hamming Distance :{} \".format(hamming_distance(y_test_genus, y_pred_l1_genus_svc))) "
   ]
  },
  {
   "cell_type": "code",
   "execution_count": 28,
   "metadata": {
    "scrolled": true
   },
   "outputs": [
    {
     "name": "stdout",
     "output_type": "stream",
     "text": [
      "SVM with L1 penality for family label :\n",
      "\n",
      "Confidence Scores for train data:0.937450357426529\n",
      "Confidence Score for test data :0.7410838351088467\n",
      "Best scores :0.9322875297855441\n",
      "Best parameters :{'C': 10000.0}\n",
      "Hamming Loss :0.26308476146364057\n",
      "Exact match :0.7369152385363594\n"
     ]
    }
   ],
   "source": [
    "scaler = StandardScaler()\n",
    "X_train_std = scaler.fit(X_train).transform(X_train)\n",
    "X_test_std = scaler.fit(X_test).transform(X_test)\n",
    "C_range_L1 = np.logspace(-3,6,10)\n",
    "param_grid = dict( C=C_range_l1)\n",
    "svm_l1_family = svm.LinearSVC(loss='squared_hinge', max_iter=1000, multi_class='ovr', penalty='l1',dual=False)\n",
    "clf_l1_family = GridSearchCV(svm_l1_family,param_grid, cv=10)\n",
    "clf_l1_family.fit(X_train, y_train_family)\n",
    "y_pred_l1_family_svc =clf_l1_family.predict(X_test_std)\n",
    "print(\"SVM with L1 penality for family label :\\n\")\n",
    "print(\"Confidence Scores for train data:{}\".format(clf_l1_family.score(X_train, y_train_family)))\n",
    "print(\"Confidence Score for test data :{}\".format(clf_l1_family.score(X_test, y_pred_l1_family_svc)))\n",
    "#print(\"cross validation result :{}\".format(clf_l1_family.cv_results_))\n",
    "print(\"Best scores :{}\".format(clf_l1_family.best_score_ ))\n",
    "print(\"Best parameters :{}\".format(clf_l1_family.best_params_ ))\n",
    "print( \"Hamming Loss :{}\".format(hamming_loss(y_test_family, y_pred_l1_family_svc)))\n",
    "print(\"Exact match :{}\".format(accuracy_score(y_test_family, y_pred_l1_family_svc)))"
   ]
  },
  {
   "cell_type": "code",
   "execution_count": 31,
   "metadata": {},
   "outputs": [
    {
     "name": "stdout",
     "output_type": "stream",
     "text": [
      "Hamming Distance :1 \n"
     ]
    }
   ],
   "source": [
    "def hamming_distance(s1, s2):\n",
    "    assert len(s1) == len(s2)\n",
    "    return sum(ch1 != ch2 for ch1, ch2 in zip(s1, s2))\n",
    " \n",
    "if __name__==\"__main__\":\n",
    "    print (\"Hamming Distance :{} \".format(hamming_distance(y_test_family, y_pred_l1_family_svc))) "
   ]
  },
  {
   "cell_type": "code",
   "execution_count": 29,
   "metadata": {
    "scrolled": true
   },
   "outputs": [
    {
     "name": "stdout",
     "output_type": "stream",
     "text": [
      "SVM with L1 penality for species label:\n",
      "\n",
      "Confidence Scores for train data:0.9612787926926132\n",
      "Confidence Score for test data :0.8601204261232052\n",
      "Best scores :0.9567116759332804\n",
      "Best parameters :{'C': 100.0}\n",
      "Hamming Loss :0.14960629921259844\n",
      "Exact match :0.8503937007874016\n"
     ]
    }
   ],
   "source": [
    "scaler = StandardScaler()\n",
    "X_train_std = scaler.fit(X_train).transform(X_train)\n",
    "X_test_std = scaler.fit(X_test).transform(X_test)\n",
    "C_range_L1 = np.logspace(-3,6,10)\n",
    "param_grid = dict( C=C_range_l1)\n",
    "svm_l1_species = svm.LinearSVC(loss='squared_hinge', max_iter=1000, multi_class='ovr', penalty='l1',dual=False)\n",
    "clf_l1_species = GridSearchCV(svm_l1_species,param_grid, cv=10)\n",
    "clf_l1_species.fit(X_train, y_train_species)\n",
    "y_pred_l1_species_svc =clf_l1_species.predict(X_test_std)\n",
    "print(\"SVM with L1 penality for species label:\\n\")\n",
    "print(\"Confidence Scores for train data:{}\".format(clf_l1_species.score(X_train, y_train_species)))\n",
    "print(\"Confidence Score for test data :{}\".format(clf_l1_species.score(X_test, y_pred_l1_species_svc)))\n",
    "#print(\"cross validation result :{}\".format(clf_l1_species.cv_results_))\n",
    "print(\"Best scores :{}\".format(clf_l1_species.best_score_ ))\n",
    "print(\"Best parameters :{}\".format(clf_l1_species.best_params_ ))\n",
    "print( \"Hamming Loss :{}\".format(hamming_loss(y_test_species, y_pred_l1_species_svc)))\n",
    "print(\"Exact match :{}\".format(accuracy_score(y_test_species, y_pred_l1_species_svc)))"
   ]
  },
  {
   "cell_type": "code",
   "execution_count": 32,
   "metadata": {},
   "outputs": [
    {
     "name": "stdout",
     "output_type": "stream",
     "text": [
      "Hamming Distance :1 \n"
     ]
    }
   ],
   "source": [
    "def hamming_distance(s1, s2):\n",
    "    assert len(s1) == len(s2)\n",
    "    return sum(ch1 != ch2 for ch1, ch2 in zip(s1, s2))\n",
    " \n",
    "if __name__==\"__main__\":\n",
    "    print (\"Hamming Distance :{} \".format(hamming_distance(y_test_species, y_pred_l1_species_svc))) "
   ]
  },
  {
   "cell_type": "markdown",
   "metadata": {},
   "source": [
    "##### Applying SMOTE for class imbalance"
   ]
  },
  {
   "cell_type": "code",
   "execution_count": 35,
   "metadata": {
    "scrolled": true
   },
   "outputs": [
    {
     "name": "stdout",
     "output_type": "stream",
     "text": [
      "SVM after applying SMOTE for imbalance for family label:\n",
      "\n",
      "Confidence Score for test data :1.0\n",
      "Best scores :0.9469549724651766\n",
      "Best scores :{'C': 10}\n",
      "Hamming Loss :0.046511627906976744\n",
      "Exact match :0.9534883720930233\n"
     ]
    }
   ],
   "source": [
    "#standardization\n",
    "scaler = StandardScaler()\n",
    "X_train_std = scaler.fit(X_train).transform(X_train)\n",
    "X_test_std = scaler.fit(X_test).transform(X_test)\n",
    "\n",
    "#smote\n",
    "X_smote_train,Y_smote_train_family = SMOTE().fit_resample(X_train_std,y_train_family)\n",
    "X_smote_test,Y_smote_test_family = SMOTE().fit_resample(X_test_std,y_test_family)\n",
    "\n",
    "#SVM\n",
    "C_range_smote = [10**x for x in range(-3,6,1)]\n",
    "param_grid = dict( C=C_range_smote)\n",
    "svm_smote_family = svm.LinearSVC(loss='squared_hinge', max_iter=1000, multi_class='ovr', penalty='l1',dual=False)\n",
    "clf_smote_family = GridSearchCV(svm_smote_family,param_grid, cv=10)\n",
    "clf_smote_family.fit(X_smote_train,Y_smote_train_family)\n",
    "y_pred_family_smote =clf_smote_family.predict(X_smote_test)\n",
    "print(\"SVM after applying SMOTE for imbalance for family label:\\n\")\n",
    "print(\"Confidence Score for test data :{}\".format(clf_smote_family.score(X_smote_test, y_pred_family_smote)))\n",
    "#print(\"cross validation result :{}\".format(clf_smote_family.cv_results_))\n",
    "print(\"Best scores :{}\".format(clf_smote_family.best_score_ ))\n",
    "print(\"Best scores :{}\".format(clf_smote_family.best_params_ ))\n",
    "print( \"Hamming Loss :{}\".format(hamming_loss(Y_smote_test_family, y_pred_family_smote)))\n",
    "print(\"Exact match :{}\".format(accuracy_score(Y_smote_test_family, y_pred_family_smote)))"
   ]
  },
  {
   "cell_type": "code",
   "execution_count": 36,
   "metadata": {},
   "outputs": [
    {
     "name": "stdout",
     "output_type": "stream",
     "text": [
      "Hamming Distance :248 \n"
     ]
    }
   ],
   "source": [
    "def hamming_distance(s1, s2):\n",
    "    assert len(s1) == len(s2)\n",
    "    return sum(ch1 != ch2 for ch1, ch2 in zip(s1, s2))\n",
    " \n",
    "if __name__==\"__main__\":\n",
    "    print (\"Hamming Distance :{} \".format(hamming_distance(Y_smote_test_family, y_pred_family_smote))) "
   ]
  },
  {
   "cell_type": "code",
   "execution_count": 39,
   "metadata": {
    "scrolled": true
   },
   "outputs": [
    {
     "name": "stdout",
     "output_type": "stream",
     "text": [
      "SVM after applying SMOTE for imbalance for species label:\n",
      "\n",
      "Confidence Score for test data :1.0\n",
      "Best scores :0.9602722772277228\n",
      "Best scores :{'C': 1}\n",
      "Hamming Loss :0.042599620493358636\n",
      "Exact match :0.9574003795066414\n",
      "Hamming Distance :449 \n"
     ]
    }
   ],
   "source": [
    "#standardization\n",
    "scaler = StandardScaler()\n",
    "X_train_std = scaler.fit(X_train).transform(X_train)\n",
    "X_test_std = scaler.fit(X_test).transform(X_test)\n",
    "\n",
    "#smote\n",
    "X_smote_train,Y_smote_train_species = SMOTE().fit_resample(X_train_std,y_train_species)\n",
    "X_smote_test,Y_smote_test_species = SMOTE().fit_resample(X_test_std,y_test_species)\n",
    "\n",
    "#SVM\n",
    "C_range_smote = [10**x for x in range(-3,6,1)]\n",
    "param_grid = dict( C=C_range_smote)\n",
    "svm_smote_species = svm.LinearSVC(loss='squared_hinge', max_iter=1000, multi_class='ovr', penalty='l1',dual=False)\n",
    "clf_smote_species = GridSearchCV(svm_smote_species,param_grid, cv=10)\n",
    "clf_smote_species.fit(X_smote_train,Y_smote_train_species)\n",
    "y_pred_species_smote =clf_smote_species.predict(X_smote_test)\n",
    "print(\"SVM after applying SMOTE for imbalance for species label:\\n\")\n",
    "print(\"Confidence Score for test data :{}\".format(clf_smote_species.score(X_smote_test, y_pred_species_smote)))\n",
    "#print(\"cross validation result :{}\".format(clf_smote_species.cv_results_))\n",
    "print(\"Best scores :{}\".format(clf_smote_species.best_score_ ))\n",
    "print(\"Best scores :{}\".format(clf_smote_species.best_params_ ))\n",
    "print( \"Hamming Loss :{}\".format(hamming_loss(Y_smote_test_species, y_pred_species_smote)))\n",
    "print(\"Exact match :{}\".format(accuracy_score(Y_smote_test_species, y_pred_species_smote)))\n",
    "def hamming_distance(s1, s2):\n",
    "    assert len(s1) == len(s2)\n",
    "    return sum(ch1 != ch2 for ch1, ch2 in zip(s1, s2))\n",
    " \n",
    "if __name__==\"__main__\":\n",
    "    print (\"Hamming Distance :{} \".format(hamming_distance(Y_smote_test_species, y_pred_species_smote))) "
   ]
  },
  {
   "cell_type": "code",
   "execution_count": 40,
   "metadata": {
    "scrolled": true
   },
   "outputs": [
    {
     "name": "stdout",
     "output_type": "stream",
     "text": [
      "SVM after applying SMOTE for imbalance for genus label:\n",
      "\n",
      "Confidence Score for test data :1.0\n",
      "Best scores :0.957167530224525\n",
      "Best scores :{'C': 1}\n",
      "Hamming Loss :0.05567729083665339\n",
      "Exact match :0.9443227091633466\n",
      "Hamming Distance :559 \n"
     ]
    }
   ],
   "source": [
    "#standardization\n",
    "scaler = StandardScaler()\n",
    "X_train_std = scaler.fit(X_train).transform(X_train)\n",
    "X_test_std = scaler.fit(X_test).transform(X_test)\n",
    "\n",
    "#smote\n",
    "X_smote_train,Y_smote_train_genus = SMOTE().fit_resample(X_train_std,y_train_genus)\n",
    "X_smote_test,Y_smote_test_genus = SMOTE().fit_resample(X_test_std,y_test_genus)\n",
    "\n",
    "#SVM\n",
    "C_range_smote = [10**x for x in range(-3,6,1)]\n",
    "param_grid = dict( C=C_range_smote)\n",
    "svm_smote_genus = svm.LinearSVC(loss='squared_hinge', max_iter=1000, multi_class='ovr', penalty='l1',dual=False)\n",
    "clf_smote_genus = GridSearchCV(svm_smote_genus,param_grid, cv=10)\n",
    "clf_smote_genus.fit(X_smote_train,Y_smote_train_genus)\n",
    "y_pred_genus_smote =clf_smote_genus.predict(X_smote_test)\n",
    "print(\"SVM after applying SMOTE for imbalance for genus label:\\n\")\n",
    "print(\"Confidence Score for test data :{}\".format(clf_smote_genus.score(X_smote_test, y_pred_genus_smote)))\n",
    "#print(\"cross validation result :{}\".format(clf_smote_genus.cv_results_))\n",
    "print(\"Best scores :{}\".format(clf_smote_genus.best_score_ ))\n",
    "print(\"Best scores :{}\".format(clf_smote_genus.best_params_ ))\n",
    "print( \"Hamming Loss :{}\".format(hamming_loss(Y_smote_test_genus, y_pred_genus_smote)))\n",
    "print(\"Exact match :{}\".format(accuracy_score(Y_smote_test_genus, y_pred_genus_smote)))\n",
    "def hamming_distance(s1, s2):\n",
    "    assert len(s1) == len(s2)\n",
    "    return sum(ch1 != ch2 for ch1, ch2 in zip(s1, s2))\n",
    " \n",
    "if __name__==\"__main__\":\n",
    "    print (\"Hamming Distance :{} \".format(hamming_distance(Y_smote_test_genus, y_pred_genus_smote))) "
   ]
  },
  {
   "cell_type": "markdown",
   "metadata": {},
   "source": [
    "Upon applying smote to balance the imbalanced classes, hamming loss and exact match have changed"
   ]
  },
  {
   "cell_type": "markdown",
   "metadata": {},
   "source": [
    "####  K-Means Clustering on a Multi-Class and Multi-Label Data Set\n",
    "##### Monte-Carlo Simulation: Perform the following procedures 50 times, and report the average and standard deviation of the 50 Hamming Distances that you calculate.\n",
    "#####  k-means clustering on the whole Anuran Calls (MFCCs) Data Set (do not split the data into train and test, as we are not performing supervised learning in this exercise). Choose k in {1,2,.. 50} automatically based on one of the methods provided in the slides (CH or Gap Statistics or scree plots or Silhouettes) or any other method you know.\n",
    "##### Determining which family is the majority by reading the true labels. Repeat for genus and species.\n",
    "##### Average Hamming distance, Hamming score, and Hamming loss between the true labels and the labels assigned by clusters."
   ]
  },
  {
   "cell_type": "code",
   "execution_count": 87,
   "metadata": {},
   "outputs": [],
   "source": [
    "X_kMeans = df.iloc[:,:22]\n",
    "Y_kMeans = df.iloc[:,22:25]"
   ]
  },
  {
   "cell_type": "code",
   "execution_count": 42,
   "metadata": {},
   "outputs": [],
   "source": [
    "from sklearn.metrics import hamming_loss\n",
    "\n",
    "cols=[e for e in df if e not in ( 'Family','Genus','Species')]\n",
    "X_kMeans=df.loc[:,cols]\n",
    "Y_kMeans=df.loc[:, ['Family','Genus','Species']]\n",
    "\n",
    "hamming_loss_val=[]\n",
    "hamming_score_val=[]\n",
    "\n",
    "majority_family={p:[] for p in range(1,51)}\n",
    "majority_genus={p:[] for p in range(1,51)}\n",
    "majority_species={p:[] for p in range(1,51)}"
   ]
  },
  {
   "cell_type": "code",
   "execution_count": 81,
   "metadata": {},
   "outputs": [],
   "source": [
    "p=51\n",
    "j=51\n",
    "i=21\n",
    "for cls in range(1,p):\n",
    "    sillhouettes_avg = dict()\n",
    "    for k in range(2,j):\n",
    "        rand_value=random.randint(0, i)\n",
    "        k_means = KMeans(n_clusters=k,init='k-means++',random_state=rand_value).fit(X_kMeans)\n",
    "        labels = k_means.labels_\n",
    "        sillhouettes_avg.update({k:(metrics.silhouette_score(X_kMeans, labels))})\n",
    "    optimal_k = max(sillhouettes_avg,key=sillhouettes_avg.get)\n",
    "    rand_value=random.randint(0, i)\n",
    "    X_kMeans1=X_kMeans\n",
    "    k_means_f = KMeans(n_clusters=4, random_state=rand_value).fit(X_kMeans1)\n",
    "    cluster_labels = k_means_f.labels_\n",
    "    clusters = pd.concat([X_kMeans1,Y_kMeans,pd.DataFrame({'labels':cluster_labels.tolist()})],axis = 1)\n",
    "    clusters['labels'].value_counts()\n",
    "    for k in range(4):\n",
    "        find= clusters[clusters['labels']==k]\n",
    "        ### below lines output the majority class in each label :2(b)\n",
    "        #print('Cluster',k+1)\n",
    "        #print('\\nMajority class in family - ',find['Family'].value_counts().index[0])\n",
    "        #print('Majority class in genus - ',find['Genus'].value_counts().index[0])\n",
    "        #print('Majority class in species - ',find['Species'].value_counts().index[0])\n",
    "        #print('\\n')\n",
    "\n",
    "    majority_all = {k:[] for k in range(4)}\n",
    "    for k in range(4):\n",
    "        c_value = clusters[clusters['labels']==k]\n",
    "        majority_all[k].append(c_value['Family'].value_counts().index[0])\n",
    "        majority_all[k].append(c_value['Genus'].value_counts().index[0])\n",
    "        majority_all[k].append(c_value['Species'].value_counts().index[0])\n",
    "        majority_family[cls].append(c_value['Family'].value_counts().index[0])\n",
    "        majority_genus[cls].append(c_value['Genus'].value_counts().index[0])\n",
    "        majority_species[cls].append(c_value['Species'].value_counts().index[0])\n",
    "    clusters['family_pred'] = 'none'\n",
    "    clusters['genus_pred'] = 'none'\n",
    "    clusters['species_pred'] = 'none'\n",
    "    for k in range(4):\n",
    "        clusters['family_pred'] = np.where(clusters['labels']==k,majority_all[k][0],clusters['family_pred'])\n",
    "        clusters['genus_pred'] = np.where(clusters['labels']==k,majority_all[k][1],clusters['genus_pred'])\n",
    "        clusters['species_pred'] = np.where(clusters['labels']==k,majority_all[k][2],clusters['species_pred'])\n",
    "    hamming_family=hamming_loss(clusters['Family'],clusters['family_pred'])\n",
    "    hamming_genus=hamming_loss(clusters['Genus'],clusters['genus_pred'])\n",
    "    hamming_species=hamming_loss(clusters['Species'],clusters['species_pred'])\n",
    "    ham_loss_s=(hamming_family+hamming_genus+hamming_species)/3\n",
    "    hamming_loss_val.append(np.round(ham_loss_s,6))\n",
    "    hamming_score_val.append((1-ham_loss_s))"
   ]
  },
  {
   "cell_type": "code",
   "execution_count": 82,
   "metadata": {},
   "outputs": [
    {
     "name": "stdout",
     "output_type": "stream",
     "text": [
      "Majority in Family Label by cluster :\n",
      "Hylidae            1730\n",
      "Leptodactylidae      43\n",
      "Name: Family, dtype: int64\n",
      "Majority in Genus Label by cluster :\n",
      "Hypsiboas        1593\n",
      "Dendropsophus     137\n",
      "Leptodactylus      43\n",
      "Name: Genus, dtype: int64\n",
      "Majority in Species Label by cluster :\n",
      "HypsiboasCordobae       1121\n",
      "HypsiboasCinerascens     472\n",
      "HylaMinuta               137\n",
      "LeptodactylusFuscus       43\n",
      "Name: Species, dtype: int64\n"
     ]
    }
   ],
   "source": [
    "print(\"Majority in Family Label by cluster :\\n{}\".format(find['Family'].value_counts()))\n",
    "print(\"Majority in Genus Label by cluster :\\n{}\".format(find['Genus'].value_counts()))\n",
    "print(\"Majority in Species Label by cluster :\\n{}\".format(find['Species'].value_counts()))"
   ]
  },
  {
   "cell_type": "code",
   "execution_count": 83,
   "metadata": {},
   "outputs": [
    {
     "name": "stdout",
     "output_type": "stream",
     "text": [
      "Standart Deviation of 50 Hamming Score: 0.008694727891744506\n",
      "Average of the 50 Hamming Score : 0.7887669328967034\n",
      "Standart Deviation of 50 Hamming Loss : 0.008694745715405112\n",
      "Average of the 50 Hamming Loss : 0.211233\n"
     ]
    }
   ],
   "source": [
    "print(\"Standart Deviation of 50 Hamming Score: {}\".format(statistics.stdev(hamming_score_val)))\n",
    "print(\"Average of the 50 Hamming Score : {}\".format(statistics.mean(hamming_score_val)))\n",
    "print(\"Standart Deviation of 50 Hamming Loss : {}\".format(statistics.stdev(hamming_loss_val)))\n",
    "print(\"Average of the 50 Hamming Loss : {}\".format(statistics.mean(hamming_loss_val)))"
   ]
  },
  {
   "cell_type": "markdown",
   "metadata": {},
   "source": [
    "#### Dendroid based on dissimilarity matrix"
   ]
  },
  {
   "cell_type": "code",
   "execution_count": 84,
   "metadata": {},
   "outputs": [
    {
     "data": {
      "image/png": "[encoded data removed]",
      "text/plain": [
       "<Figure size 864x576 with 1 Axes>"
      ]
     },
     "metadata": {
      "needs_background": "light"
     },
     "output_type": "display_data"
    }
   ],
   "source": [
    "from scipy.cluster.hierarchy import dendrogram, linkage\n",
    "dissimilarity_matrix = np.array([[0,0.3,0.4,0.7],\n",
    "                                 [0.3,0,0.5,0.8],\n",
    "                                [0.4,0.5,0,0.45],\n",
    "                                [0.7,0.8,0.45,0]])\n",
    "height, width = dissimilarity_matrix.shape\n",
    "dend = linkage(dissimilarity_matrix[np.triu_indices(height,1)], method='complete')\n",
    "plt.figure(figsize=(12,8))\n",
    "plt.title('Dendrogram :observations ')\n",
    "plt.xlabel('Observations')\n",
    "plt.ylabel('Height')\n",
    "dendrogram(dend,leaf_rotation=0,leaf_font_size=10)\n",
    "plt.show()"
   ]
  },
  {
   "cell_type": "markdown",
   "metadata": {},
   "source": [
    "#### Single linkage clustering."
   ]
  },
  {
   "cell_type": "code",
   "execution_count": 85,
   "metadata": {},
   "outputs": [
    {
     "data": {
      "image/png": "[encoded data removed]",
      "text/plain": [
       "<Figure size 720x360 with 1 Axes>"
      ]
     },
     "metadata": {
      "needs_background": "light"
     },
     "output_type": "display_data"
    }
   ],
   "source": [
    "# Linkage matrix\n",
    "dissimilarity_matrix = np.array([[0,0.3,0.4,0.7],\n",
    "                                 [0.3,0,0.5,0.8],\n",
    "                                [0.4,0.5,0,0.45],\n",
    "                                [0.7,0.8,0.45,0]])\n",
    "height, width = dissimilarity_matrix.shape\n",
    "z = linkage(dissimilarity_matrix[np.triu_indices(height,1)], method='single')\n",
    "plt.figure(figsize=(10,5))\n",
    "plt.title('Hierarchical clustering dendrogram')\n",
    "plt.xlabel('Observations')\n",
    "plt.ylabel('Height')\n",
    "\n",
    "dendrogram(z, leaf_rotation=0, leaf_font_size=8)\n",
    "plt.show()"
   ]
  }
 ],
 "metadata": {
  "kernelspec": {
   "display_name": "Python 3",
   "language": "python",
   "name": "python3"
  },
  "language_info": {
   "codemirror_mode": {
    "name": "ipython",
    "version": 3
   },
   "file_extension": ".py",
   "mimetype": "text/x-python",
   "name": "python",
   "nbconvert_exporter": "python",
   "pygments_lexer": "ipython3",
   "version": "3.6.0"
  }
 },
 "nbformat": 4,
 "nbformat_minor": 2
}
