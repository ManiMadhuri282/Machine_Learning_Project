{
 "cells": [
  {
   "cell_type": "code",
   "execution_count": 1,
   "metadata": {},
   "outputs": [],
   "source": [
    "\n",
    "import pandas as pd\n",
    "import numpy as np\n",
    "import tensorflow as tf\n",
    "import pickle\n",
    "from sklearn.cluster import KMeans\n",
    "import matplotlib.pyplot as plt\n",
    "from sklearn.model_selection import train_test_split"
   ]
  },
  {
   "cell_type": "code",
   "execution_count": 2,
   "metadata": {},
   "outputs": [],
   "source": [
    "def unpickle(file):\n",
    "    import pickle\n",
    "    with open(file, 'rb') as fo:\n",
    "        dict_ = pickle.load(fo, encoding='bytes')\n",
    "    features = dict_[b'data'].reshape((len(dict_[b'data']), 3, 32, 32)).transpose(0, 2, 3, 1)\n",
    "    labels = dict_[b'labels']\n",
    "    return (features, labels)"
   ]
  },
  {
   "cell_type": "code",
   "execution_count": 3,
   "metadata": {},
   "outputs": [],
   "source": [
    "def merge(data):\n",
    "    data_ = []\n",
    "    for i in range(len(data[0])):\n",
    "        if data[1][i] == 2:\n",
    "            data_.append(data[0][i])\n",
    "    return data_"
   ]
  },
  {
   "cell_type": "code",
   "execution_count": 4,
   "metadata": {},
   "outputs": [],
   "source": [
    "\n",
    "data = []\n",
    "data_1 = unpickle('data_batch_1');\n",
    "data += merge(data_1) \n",
    "data_2 = unpickle('data_batch_2');\n",
    "data += merge(data_2) \n",
    "data_3 = unpickle('data_batch_3');\n",
    "data += merge(data_3) \n",
    "data_4 = unpickle('data_batch_4');\n",
    "data += merge(data_4) \n",
    "data_5 = unpickle('data_batch_5');\n",
    "data += merge(data_5) \n",
    "test_data = unpickle('test_batch')\n",
    "data += merge(test_data)"
   ]
  },
  {
   "cell_type": "code",
   "execution_count": 5,
   "metadata": {},
   "outputs": [
    {
     "data": {
      "text/plain": [
       "(6000, 32, 32, 3)"
      ]
     },
     "execution_count": 5,
     "metadata": {},
     "output_type": "execute_result"
    }
   ],
   "source": [
    "\n",
    "np.array(data).shape"
   ]
  },
  {
   "cell_type": "code",
   "execution_count": 6,
   "metadata": {},
   "outputs": [
    {
     "data": {
      "text/plain": [
       "<matplotlib.image.AxesImage at 0x1b061bd6438>"
      ]
     },
     "execution_count": 6,
     "metadata": {},
     "output_type": "execute_result"
    },
    {
     "data": {
      "image/png": "[encoded data removed]",
      "text/plain": [
       "<Figure size 432x288 with 1 Axes>"
      ]
     },
     "metadata": {
      "needs_background": "light"
     },
     "output_type": "display_data"
    }
   ],
   "source": [
    "plt.imshow(data[5])"
   ]
  },
  {
   "cell_type": "code",
   "execution_count": 7,
   "metadata": {},
   "outputs": [],
   "source": [
    "pixel_list = np.reshape(data, (6144000, 3))"
   ]
  },
  {
   "cell_type": "code",
   "execution_count": 8,
   "metadata": {},
   "outputs": [],
   "source": [
    "kmeans = KMeans(n_clusters=4)"
   ]
  },
  {
   "cell_type": "code",
   "execution_count": 9,
   "metadata": {},
   "outputs": [
    {
     "data": {
      "text/plain": [
       "KMeans(algorithm='auto', copy_x=True, init='k-means++', max_iter=300,\n",
       "    n_clusters=4, n_init=10, n_jobs=None, precompute_distances='auto',\n",
       "    random_state=None, tol=0.0001, verbose=0)"
      ]
     },
     "execution_count": 9,
     "metadata": {},
     "output_type": "execute_result"
    }
   ],
   "source": [
    "kmeans.fit(pixel_list)"
   ]
  },
  {
   "cell_type": "code",
   "execution_count": 10,
   "metadata": {},
   "outputs": [
    {
     "data": {
      "text/plain": [
       "array([[ 48.86643062,  49.84981537,  38.4409442 ],\n",
       "       [206.34418768, 211.59303332, 211.21574834],\n",
       "       [156.01265405, 155.30410647, 135.2219057 ],\n",
       "       [108.69806381, 108.35577368,  82.48021122]])"
      ]
     },
     "execution_count": 10,
     "metadata": {},
     "output_type": "execute_result"
    }
   ],
   "source": [
    "kmeans.cluster_centers_"
   ]
  },
  {
   "cell_type": "code",
   "execution_count": 11,
   "metadata": {},
   "outputs": [],
   "source": [
    "lab = kmeans.predict(pixel_list)"
   ]
  },
  {
   "cell_type": "code",
   "execution_count": 12,
   "metadata": {},
   "outputs": [],
   "source": [
    "\n",
    "npl = []\n",
    "Y = []\n",
    "for ppp in range(len(pixel_list)):\n",
    "    npl.append([int(op) for op in kmeans.cluster_centers_[lab[ppp]]])\n",
    "    if lab[ppp] == 0:\n",
    "        Y.append([1, 0, 0, 0])\n",
    "    elif lab[ppp] == 1:\n",
    "        Y.append([0, 1, 0, 0])\n",
    "    elif lab[ppp] == 2:\n",
    "        Y.append([0, 0, 1, 0])\n",
    "    elif lab[ppp] == 3:\n",
    "        Y.append([0, 0, 0, 1])"
   ]
  },
  {
   "cell_type": "code",
   "execution_count": 13,
   "metadata": {},
   "outputs": [
    {
     "data": {
      "text/plain": [
       "(6144000, 3)"
      ]
     },
     "execution_count": 13,
     "metadata": {},
     "output_type": "execute_result"
    }
   ],
   "source": [
    "np.shape(npl)"
   ]
  },
  {
   "cell_type": "code",
   "execution_count": 14,
   "metadata": {},
   "outputs": [
    {
     "data": {
      "text/plain": [
       "(6144000, 4)"
      ]
     },
     "execution_count": 14,
     "metadata": {},
     "output_type": "execute_result"
    }
   ],
   "source": [
    "np.shape(Y)"
   ]
  },
  {
   "cell_type": "code",
   "execution_count": 15,
   "metadata": {},
   "outputs": [],
   "source": [
    "\n",
    "npl = np.reshape(npl, (6000, 32, 32, 3))\n",
    "Y = np.reshape(Y, (6000, 32, 32, 4))"
   ]
  },
  {
   "cell_type": "code",
   "execution_count": 16,
   "metadata": {},
   "outputs": [],
   "source": [
    "from skimage.color import rgb2grey"
   ]
  },
  {
   "cell_type": "code",
   "execution_count": 17,
   "metadata": {},
   "outputs": [],
   "source": [
    "\n",
    "X = []\n",
    "pixel_list = np.reshape(pixel_list, (6000, 32, 32, 3))\n",
    "for i in range(len(pixel_list)):\n",
    "    X.append(rgb2grey(pixel_list[i]).tolist())\n",
    "    "
   ]
  },
  {
   "cell_type": "code",
   "execution_count": 18,
   "metadata": {},
   "outputs": [],
   "source": [
    "X = np.reshape(X, (6000, 32, 32, 1))"
   ]
  },
  {
   "cell_type": "code",
   "execution_count": 19,
   "metadata": {},
   "outputs": [
    {
     "name": "stderr",
     "output_type": "stream",
     "text": [
      "Using TensorFlow backend.\n"
     ]
    }
   ],
   "source": [
    "from keras.utils import to_categorical"
   ]
  },
  {
   "cell_type": "code",
   "execution_count": 20,
   "metadata": {},
   "outputs": [],
   "source": [
    "\n",
    "from keras.models import Sequential\n",
    "from keras.layers import Dense, Conv2D, Flatten, MaxPool2D\n"
   ]
  },
  {
   "cell_type": "code",
   "execution_count": 21,
   "metadata": {},
   "outputs": [],
   "source": [
    "model = Sequential()"
   ]
  },
  {
   "cell_type": "code",
   "execution_count": 22,
   "metadata": {},
   "outputs": [
    {
     "name": "stdout",
     "output_type": "stream",
     "text": [
      "WARNING:tensorflow:From D:\\Python\\lib\\site-packages\\tensorflow\\python\\framework\\op_def_library.py:263: colocate_with (from tensorflow.python.framework.ops) is deprecated and will be removed in a future version.\n",
      "Instructions for updating:\n",
      "Colocations handled automatically by placer.\n",
      "WARNING:tensorflow:From D:\\Python\\lib\\site-packages\\keras\\backend\\tensorflow_backend.py:1204: calling reduce_max_v1 (from tensorflow.python.ops.math_ops) with keep_dims is deprecated and will be removed in a future version.\n",
      "Instructions for updating:\n",
      "keep_dims is deprecated, use keepdims instead\n",
      "WARNING:tensorflow:From D:\\Python\\lib\\site-packages\\keras\\backend\\tensorflow_backend.py:1238: calling reduce_sum_v1 (from tensorflow.python.ops.math_ops) with keep_dims is deprecated and will be removed in a future version.\n",
      "Instructions for updating:\n",
      "keep_dims is deprecated, use keepdims instead\n"
     ]
    }
   ],
   "source": [
    "import warnings\n",
    "\n",
    "def warn_filter():\n",
    "    warnings.warn(\"deprecated\", DeprecationWarning)\n",
    "\n",
    "with warnings.catch_warnings():\n",
    "    warnings.simplefilter(\"ignore\")\n",
    "    warn_filter()\n",
    "\n",
    "model.add(Conv2D(64, kernel_size = (5,5), strides=(1, 1), padding='same', input_shape = (32,32,1)))\n",
    "model.add(MaxPool2D(pool_size=(2, 2), strides=(1, 1), padding='same'))\n",
    "model.add(Conv2D(64, kernel_size = (5,5), strides=(1, 1), padding='same'))\n",
    "model.add(MaxPool2D(pool_size=(2, 2), strides=(1, 1), padding='same'))\n",
    "model.add(Dense(32, activation='softmax'))\n",
    "model.add(Dense(4, activation='softmax'))"
   ]
  },
  {
   "cell_type": "code",
   "execution_count": 23,
   "metadata": {},
   "outputs": [
    {
     "name": "stdout",
     "output_type": "stream",
     "text": [
      "_________________________________________________________________\n",
      "Layer (type)                 Output Shape              Param #   \n",
      "=================================================================\n",
      "conv2d_1 (Conv2D)            (None, 32, 32, 64)        1664      \n",
      "_________________________________________________________________\n",
      "max_pooling2d_1 (MaxPooling2 (None, 32, 32, 64)        0         \n",
      "_________________________________________________________________\n",
      "conv2d_2 (Conv2D)            (None, 32, 32, 64)        102464    \n",
      "_________________________________________________________________\n",
      "max_pooling2d_2 (MaxPooling2 (None, 32, 32, 64)        0         \n",
      "_________________________________________________________________\n",
      "dense_1 (Dense)              (None, 32, 32, 32)        2080      \n",
      "_________________________________________________________________\n",
      "dense_2 (Dense)              (None, 32, 32, 4)         132       \n",
      "=================================================================\n",
      "Total params: 106,340\n",
      "Trainable params: 106,340\n",
      "Non-trainable params: 0\n",
      "_________________________________________________________________\n"
     ]
    }
   ],
   "source": [
    "\n",
    "model.summary()"
   ]
  },
  {
   "cell_type": "code",
   "execution_count": 24,
   "metadata": {},
   "outputs": [],
   "source": [
    "model.compile(optimizer='adam', loss='categorical_crossentropy', metrics=['accuracy'])"
   ]
  },
  {
   "cell_type": "code",
   "execution_count": 25,
   "metadata": {},
   "outputs": [],
   "source": [
    "\n",
    "X_train, X_test, y_train, y_test = train_test_split(X, Y, test_size=0.1, random_state=10)"
   ]
  },
  {
   "cell_type": "code",
   "execution_count": 26,
   "metadata": {},
   "outputs": [
    {
     "data": {
      "text/plain": [
       "(5400, 32, 32, 4)"
      ]
     },
     "execution_count": 26,
     "metadata": {},
     "output_type": "execute_result"
    }
   ],
   "source": [
    "y_train.shape"
   ]
  },
  {
   "cell_type": "code",
   "execution_count": 31,
   "metadata": {},
   "outputs": [
    {
     "name": "stdout",
     "output_type": "stream",
     "text": [
      "Train on 5400 samples, validate on 600 samples\n",
      "Epoch 1/30\n",
      " - 34s - loss: 0.9585 - acc: 0.6900 - val_loss: 0.9067 - val_acc: 0.6720\n",
      "Epoch 2/30\n",
      " - 35s - loss: 0.8548 - acc: 0.7043 - val_loss: 0.8128 - val_acc: 0.7096\n",
      "Epoch 3/30\n",
      " - 36s - loss: 0.7837 - acc: 0.7139 - val_loss: 0.7538 - val_acc: 0.7268\n",
      "Epoch 4/30\n",
      " - 37s - loss: 0.7263 - acc: 0.7246 - val_loss: 0.7354 - val_acc: 0.6838\n",
      "Epoch 5/30\n",
      " - 36s - loss: 0.6831 - acc: 0.7298 - val_loss: 0.6664 - val_acc: 0.7257\n",
      "Epoch 6/30\n",
      " - 36s - loss: 0.6491 - acc: 0.7331 - val_loss: 0.6334 - val_acc: 0.7398\n",
      "Epoch 7/30\n",
      " - 37s - loss: 0.6208 - acc: 0.7354 - val_loss: 0.6100 - val_acc: 0.7452\n",
      "Epoch 8/30\n",
      " - 36s - loss: 0.5961 - acc: 0.7363 - val_loss: 0.5846 - val_acc: 0.7463\n",
      "Epoch 9/30\n",
      " - 37s - loss: 0.5718 - acc: 0.7379 - val_loss: 0.5550 - val_acc: 0.7396\n",
      "Epoch 10/30\n",
      " - 39s - loss: 0.5455 - acc: 0.7397 - val_loss: 0.5461 - val_acc: 0.7465\n",
      "Epoch 11/30\n",
      " - 37s - loss: 0.5183 - acc: 0.7440 - val_loss: 0.5090 - val_acc: 0.7311\n",
      "Epoch 12/30\n",
      " - 38s - loss: 0.4887 - acc: 0.8218 - val_loss: 0.4764 - val_acc: 0.8471\n",
      "Epoch 13/30\n",
      " - 36s - loss: 0.4631 - acc: 0.8614 - val_loss: 0.4469 - val_acc: 0.8695\n",
      "Epoch 14/30\n",
      " - 37s - loss: 0.4365 - acc: 0.8658 - val_loss: 0.4286 - val_acc: 0.8666\n",
      "Epoch 15/30\n",
      " - 37s - loss: 0.4142 - acc: 0.8658 - val_loss: 0.4002 - val_acc: 0.8714\n",
      "Epoch 16/30\n",
      " - 36s - loss: 0.4023 - acc: 0.8615 - val_loss: 0.3995 - val_acc: 0.8508\n",
      "Epoch 17/30\n",
      " - 36s - loss: 0.3863 - acc: 0.8632 - val_loss: 0.3768 - val_acc: 0.8722\n",
      "Epoch 18/30\n",
      " - 37s - loss: 0.3756 - acc: 0.8645 - val_loss: 0.3647 - val_acc: 0.8681\n",
      "Epoch 19/30\n",
      " - 37s - loss: 0.3574 - acc: 0.8708 - val_loss: 0.3585 - val_acc: 0.8675\n",
      "Epoch 20/30\n",
      " - 37s - loss: 0.3516 - acc: 0.8710 - val_loss: 0.3635 - val_acc: 0.8539\n",
      "Epoch 21/30\n",
      " - 39s - loss: 0.3505 - acc: 0.8687 - val_loss: 0.3626 - val_acc: 0.8615\n",
      "Epoch 22/30\n",
      " - 39s - loss: 0.3396 - acc: 0.8725 - val_loss: 0.3357 - val_acc: 0.8730\n",
      "Epoch 23/30\n",
      " - 40s - loss: 0.3368 - acc: 0.8715 - val_loss: 0.3359 - val_acc: 0.8683\n",
      "Epoch 24/30\n",
      " - 39s - loss: 0.3322 - acc: 0.8725 - val_loss: 0.3271 - val_acc: 0.8746\n",
      "Epoch 25/30\n",
      " - 38s - loss: 0.3259 - acc: 0.8741 - val_loss: 0.3309 - val_acc: 0.8751\n",
      "Epoch 26/30\n",
      " - 40s - loss: 0.3261 - acc: 0.8732 - val_loss: 0.3210 - val_acc: 0.8772\n",
      "Epoch 27/30\n",
      " - 40s - loss: 0.3228 - acc: 0.8735 - val_loss: 0.3420 - val_acc: 0.8685\n",
      "Epoch 28/30\n",
      " - 41s - loss: 0.3274 - acc: 0.8706 - val_loss: 0.3276 - val_acc: 0.8729\n",
      "Epoch 29/30\n",
      " - 42s - loss: 0.3192 - acc: 0.8740 - val_loss: 0.3378 - val_acc: 0.8668\n",
      "Epoch 30/30\n",
      " - 40s - loss: 0.3177 - acc: 0.8739 - val_loss: 0.3095 - val_acc: 0.8780\n"
     ]
    }
   ],
   "source": [
    "import warnings\n",
    "\n",
    "def warn_filter():\n",
    "    warnings.warn(\"deprecated\", DeprecationWarning)\n",
    "\n",
    "with warnings.catch_warnings():\n",
    "    warnings.simplefilter(\"ignore\")\n",
    "    warn_filter()\n",
    "\n",
    "\n",
    "network = model.fit(X_train, y_train, validation_data=(X_test, y_test), epochs=30, verbose=2)"
   ]
  },
  {
   "cell_type": "code",
   "execution_count": 32,
   "metadata": {},
   "outputs": [],
   "source": [
    "pred = model.predict(X_test)\n",
    "pred = pred.reshape(614400, 4)\n",
    "output_images = []\n",
    "for p in range(len(pred)):\n",
    "    output_images.append([int(op) for op in kmeans.cluster_centers_[np.argmax(pred[p])]])\n",
    "y_test_reshaped = y_test.reshape(614400, 4)\n",
    "y_test_k_color = []\n",
    "for p in range(len(y_test_reshaped)):\n",
    "    y_test_k_color.append([int(op) for op in kmeans.cluster_centers_[np.argmax(y_test_reshaped[p])]])\n",
    "output_images = np.reshape(output_images, (600, 32, 32, 3))\n",
    "y_test_k_color = np.reshape(y_test_k_color, (600, 32, 32, 3))"
   ]
  },
  {
   "cell_type": "code",
   "execution_count": 36,
   "metadata": {},
   "outputs": [
    {
     "data": {
      "image/png": "[encoded data removed]",
      "text/plain": [
       "<Figure size 720x1440 with 20 Axes>"
      ]
     },
     "metadata": {
      "needs_background": "light"
     },
     "output_type": "display_data"
    }
   ],
   "source": [
    "plt.figure(figsize=(10, 20))\n",
    "subplotcount = 1\n",
    "for i in range(0,10):\n",
    "    plt.subplot(10, 2, subplotcount)\n",
    "    subplotcount+=1\n",
    "    plt.imshow(y_test_k_color[i])\n",
    "    plt.subplot(10, 2, subplotcount)\n",
    "    subplotcount+=1\n",
    "    plt.imshow(output_images[i])\n",
    "    plt.axis('off')\n",
    "plt.show()"
   ]
  },
  {
   "cell_type": "code",
   "execution_count": 37,
   "metadata": {},
   "outputs": [
    {
     "data": {
      "text/plain": [
       "<matplotlib.legend.Legend at 0x1b00f380a20>"
      ]
     },
     "execution_count": 37,
     "metadata": {},
     "output_type": "execute_result"
    },
    {
     "data": {
      "image/png": "[encoded data removed]",
      "text/plain": [
       "<Figure size 432x288 with 1 Axes>"
      ]
     },
     "metadata": {
      "needs_background": "light"
     },
     "output_type": "display_data"
    }
   ],
   "source": [
    "no_of_epochs = [int(i) for i in range(1, 31)]\n",
    "plt.plot(no_of_epochs, network.history['loss'], marker = \"x\", color=\"r\", label = \"Testing Error\")\n",
    "plt.plot(no_of_epochs, network.history['val_loss'], marker = \"x\", color = \"g\", label = \"Training Error\")\n",
    "plt.legend()"
   ]
  },
  {
   "cell_type": "code",
   "execution_count": null,
   "metadata": {},
   "outputs": [],
   "source": []
  },
  {
   "cell_type": "code",
   "execution_count": null,
   "metadata": {},
   "outputs": [],
   "source": []
  },
  {
   "cell_type": "code",
   "execution_count": null,
   "metadata": {},
   "outputs": [],
   "source": []
  }
 ],
 "metadata": {
  "kernelspec": {
   "display_name": "Python 3",
   "language": "python",
   "name": "python3"
  },
  "language_info": {
   "codemirror_mode": {
    "name": "ipython",
    "version": 3
   },
   "file_extension": ".py",
   "mimetype": "text/x-python",
   "name": "python",
   "nbconvert_exporter": "python",
   "pygments_lexer": "ipython3",
   "version": "3.6.0"
  }
 },
 "nbformat": 4,
 "nbformat_minor": 2
}
